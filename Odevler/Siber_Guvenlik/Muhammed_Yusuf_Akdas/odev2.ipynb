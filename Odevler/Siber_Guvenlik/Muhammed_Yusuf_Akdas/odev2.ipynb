sayi=int(input('Bir sayı giriniz:'))

if sayi%5==0 and sayi%7==0:
  print('Sayınız 5 e ve 7 ye bölünüyor')
elif sayi%5==0 and sayi%7!=0:
  print('Sayınız 5 e bölünüyor')
elif sayi%5!=0 and sayi%7==0:
  print('Sayınız 7 ye bölünüyor')
elif sayi%5!=0 and sayi%7!=0:
  print('Sayınız 5 e ve 7 ye bölünmüyor')
     
Bir sayı giriniz:3
Sayınız 5 e ve 7 ye bölünmüyor
In [ ]:


     
In [5]:

yazi= input("Kontrol etmek istediğiniz bir kelime giriniz: ")

if(yazi[0]==yazi[-1]):
    print(" Kelimenin ilk ve son harfi aynıdır.")
else:
    print("Kelimenin ilk ve son harfi aynı değildir.")

     
Kontrol etmek istediğiniz bir kelime giriniz: bob
 Kelimenin ilk ve son harfi aynıdır.
In [6]:

boy = float(input("Boyunuzu metre cinsinden giriniz Giriniz: "))
kilo = int(input("Kilonuzu Giriniz: "))

vki=kilo/(boy*boy)

if(vki>=30):
    print(f"Vucut Kitle Endeksiniz: {vki} - Obezsiniz!...")


elif(25<=vki<30):
    print(f"Vucut Kitle Endeksiniz: {vki} - Asiri Kilolusunuz!...")


elif(20<=vki<25):
    print(f"Vucut Kitle Endeksiniz: {vki} - Normal Kilodasiniz!...")



elif(vki<20):
    print(f"Vucut Kitle Endeksiniz: {vki} - Zayifsiniz!...")
     
